{
 "cells": [
  {
   "cell_type": "code",
   "execution_count": null,
   "metadata": {},
   "outputs": [],
   "source": [
    "'''\n",
    "Задание на закрепление знаний по модулю CSV. Написать скрипт, осуществляющий выборку определенных данных из файлов\n",
    "info_1.txt, info_2.txt, info_3.txt и формирующий новый «отчетный» файл в формате CSV. Для этого:\n",
    "Создать функцию get_data(), в которой в цикле осуществляется перебор файлов с данными, их открытие и \n",
    "считывание данных. В этой функции из считанных данных необходимо с помощью регулярных выражений извлечь\n",
    "значения параметров «Изготовитель системы», «Название ОС», «Код продукта», «Тип системы». \n",
    "Значения каждого параметра поместить в соответствующий список. Должно получиться четыре списка — например,\n",
    "os_prod_list, os_name_list, os_code_list, os_type_list. В этой же функции создать главный список для хранения\n",
    "данных отчета — например, main_data — и поместить в него названия столбцов отчета в виде списка: \n",
    "«Изготовитель системы», «Название ОС», «Код продукта», «Тип системы». Значения для этих столбцов \n",
    "также оформить в виде списка и поместить в файл main_data (также для каждого файла);\n",
    "Создать функцию write_to_csv(), в которую передавать ссылку на CSV-файл. В этой функции реализовать\n",
    "получение данных через вызов функции get_data(), а также сохранение подготовленных данных в соответствующий\n",
    "CSV-файл;\n",
    "Проверить работу программы через вызов функции write_to_csv().\n",
    "'''"
   ]
  },
  {
   "cell_type": "code",
   "execution_count": 1,
   "metadata": {},
   "outputs": [],
   "source": [
    "import csv\n",
    "import re\n",
    "def get_data(input_files):\n",
    "    os_prod_list=[]\n",
    "    os_name_list=[]\n",
    "    os_code_list=[]\n",
    "    os_type_list=[]\n",
    "    shablon={\n",
    "        'Изготовитель системы':os_prod_list,\n",
    "        'Название ОС':os_name_list,\n",
    "        'Код продукта':os_code_list,\n",
    "        'Тип системы':os_type_list,\n",
    "    }\n",
    "    main_data=list(shablon.keys())\n",
    "    files=input_files.split(',')\n",
    "    for file_name in files:\n",
    "        with open(file_name, encoding='cp1251') as file:\n",
    "            for row in file:\n",
    "                for i in shablon.keys():\n",
    "                    if re.match(i, row):\n",
    "                        data=row.split(':')[1].replace(' ','').replace('\\n','')\n",
    "                        shablon[i].append(data)\n",
    "    return os_prod_list, os_name_list, os_code_list, os_type_list, main_data\n",
    "    \n",
    "            \n",
    "#print(get_data('info_1.txt,info_2.txt,info_3.txt'))\n",
    "\n",
    "def write_to_csv(csv_file):\n",
    "    os_prod_list,os_name_list,os_code_list,os_type_list,main_data=get_data('info_1.txt,info_2.txt,info_3.txt')\n",
    "    data=[]\n",
    "    data.append(main_data)\n",
    "    [data.append(list(i)) for i in list(zip(os_prod_list,os_name_list,os_code_list,os_type_list))]\n",
    "    with open(csv_file, 'w') as file:\n",
    "       file_wr = csv.writer(file)\n",
    "       for row in data:\n",
    "           file_wr.writerow(row)\n",
    "\n",
    "\n",
    "\n",
    "    \n",
    "write_to_csv('ex.csv')"
   ]
  },
  {
   "cell_type": "code",
   "execution_count": null,
   "metadata": {},
   "outputs": [],
   "source": [
    "'''\n",
    "Задание на закрепление знаний по модулю json. Есть файл orders в формате JSON с информацией о заказах.\n",
    "Написать скрипт, автоматизирующий его заполнение данными. Для этого:\n",
    "Создать функцию write_order_to_json(), в которую передается 5 параметров — товар (item), количество (quantity),\n",
    "цена (price), покупатель (buyer), дата (date). Функция должна предусматривать запись данных в виде словаря в \n",
    "файл orders.json. При записи данных указать величину отступа в 4 пробельных символа;\n",
    "Проверить работу программы через вызов функции write_order_to_json() с передачей в нее значений каждого параметра.\n",
    "'''"
   ]
  },
  {
   "cell_type": "code",
   "execution_count": 2,
   "metadata": {},
   "outputs": [],
   "source": [
    "import datetime\n",
    "import json\n",
    "def write_to_json(item,quantity,price,buyer,date):\n",
    "    with open('orders.json') as file:\n",
    "        objs = json.load(file)\n",
    "    ls=objs['orders']\n",
    "    user_dict={\n",
    "        'item':item,\n",
    "        'quantity':quantity,\n",
    "        'price':price,\n",
    "        'buyer':buyer,\n",
    "        'date':date\n",
    "    }\n",
    "    ls.append(user_dict)\n",
    "    data={'orders':ls}\n",
    "    with open('orders.json', 'w') as file:\n",
    "        json.dump(data, file, indent=4)\n",
    "\n",
    "    \n",
    "write_to_json('milk',1,100.00,'Ivanov',str(datetime.datetime.now()))\n",
    "write_to_json('soup',3,120.00,'Petrov',str(datetime.datetime.now()))"
   ]
  },
  {
   "cell_type": "code",
   "execution_count": null,
   "metadata": {},
   "outputs": [],
   "source": [
    "'''\n",
    "Задание на закрепление знаний по модулю yaml. Написать скрипт, автоматизирующий сохранение данных в \n",
    "файле YAML-формата. Для этого:\n",
    "Подготовить данные для записи в виде словаря, в котором первому ключу соответствует список, второму — целое число,\n",
    "третьему — вложенный словарь, где значение каждого ключа — это целое число с юникод-символом, отсутствующим в \n",
    "кодировке ASCII (например, €);\n",
    "Реализовать сохранение данных в файл формата YAML — например, в файл file.yaml. При этом обеспечить стилизацию \n",
    "файла с помощью параметра default_flow_style, а также установить возможность работы с юникодом:\n",
    "allow_unicode = True;\n",
    "Реализовать считывание данных из созданного файла и проверить, совпадают ли они с исходными.\n",
    "'''"
   ]
  },
  {
   "cell_type": "code",
   "execution_count": 9,
   "metadata": {},
   "outputs": [
    {
     "name": "stdout",
     "output_type": "stream",
     "text": [
      "address:\n",
      "  one: 3€\n",
      "age: 30\n",
      "fio:\n",
      "- Ivanov\n",
      "- Ivan\n",
      "- Ivanovich\n",
      "\n"
     ]
    }
   ],
   "source": [
    "import yaml\n",
    "l=['Ivanov','Ivan','Ivanovich']\n",
    "age=30\n",
    "address={\n",
    "    'one':'3€',\n",
    "}\n",
    "data_to_yaml={'fio':l,'age':age,'address':address}\n",
    "with open('file.yaml', 'w') as file:\n",
    "    yaml.dump(data_to_yaml, file, default_flow_style=False, allow_unicode = True)\n",
    "\n",
    "with open('file.yaml') as file:\n",
    "    print(file.read())\n",
    "\n",
    "    "
   ]
  }
 ],
 "metadata": {
  "kernelspec": {
   "display_name": "Python 3",
   "language": "python",
   "name": "python3"
  },
  "language_info": {
   "codemirror_mode": {
    "name": "ipython",
    "version": 3
   },
   "file_extension": ".py",
   "mimetype": "text/x-python",
   "name": "python",
   "nbconvert_exporter": "python",
   "pygments_lexer": "ipython3",
   "version": "3.6.7"
  }
 },
 "nbformat": 4,
 "nbformat_minor": 2
}
